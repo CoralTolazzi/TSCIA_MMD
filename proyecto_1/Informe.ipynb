{
  "cells": [
    {
      "cell_type": "markdown",
      "metadata": {
        "id": "vh7e4WaGSfaZ"
      },
      "source": [
        "# **Análisis de Ventas - Coral Tech**\n",
        "\n",
        "Este proyecto analiza los datos de ventas de la empresa Coral Tech a partir de archivos CSV.\n",
        "Se utilizan herramientas de Python como Pandas y Matplotlib para procesar la información y generar gráficos que muestran:\n",
        "\n",
        "* El rendimiento general de ventas\n",
        "* Los rubros más rentables\n",
        "* Los clientes más importantes\n",
        "* La evolución mensual de las ventas\n",
        "* Los productos más vendidos\n",
        "\n",
        "El objetivo es obtener una visión clara y profesional de los resultados comerciales y apoyar la toma de decisiones."
      ]
    },
    {
      "cell_type": "markdown",
      "metadata": {
        "id": "f14plKx3UD31"
      },
      "source": [
        "**Carga de datos**\n",
        "\n",
        "\n",
        "Primero se importan las librerías necesarias y se cargan los archivos CSV desde la carpeta “csv de ventas”, que contiene toda la información del sistema (clientes, facturas, productos, rubros y detalles de facturas).\n",
        "\n",
        "Tienen que existir los cvs en la carpeta \"csv de ventas\" para poder re"
      ]
    },
    {
      "cell_type": "code",
      "execution_count": null,
      "metadata": {
        "id": "rRcSakdwXhJP"
      },
      "outputs": [],
      "source": [
        "import os\n",
        "import pandas as pd\n",
        "import matplotlib.pyplot as plt\n",
        "import numpy as np\n",
        "\n",
        "base_path = \"export_csv/\"\n",
        "archivos = [\"cliente.csv\", \"factura.csv\", \"detalle_factura.csv\", \"producto.csv\", \"rubro.csv\"]\n",
        "faltantes = [f for f in archivos if not os.path.exists(os.path.join(base_path, f))]\n",
        "if faltantes:\n",
        "    mensaje = \"❌ ERROR: No se encontraron los siguientes archivos requeridos:\\n\"\n",
        "    for f in faltantes:\n",
        "        mensaje += f\"   - {f}\\n\"\n",
        "    mensaje += \"\\n Elige la opcion 6 en exportar como CSV para visualizar los datos de Coral Tech.\"\n",
        "    raise FileNotFoundError(mensaje)\n",
        "else:\n",
        "    # Cargar los CSV si existen\n",
        "    clientes = pd.read_csv(base_path + \"cliente.csv\")\n",
        "    facturas = pd.read_csv(base_path + \"factura.csv\")\n",
        "    detalle = pd.read_csv(base_path + \"detalle_factura.csv\")\n",
        "    productos = pd.read_csv(base_path + \"producto.csv\")\n",
        "    rubros = pd.read_csv(base_path + \"rubro.csv\")"
      ]
    },
    {
      "cell_type": "markdown",
      "metadata": {
        "id": "UGmv8DaWVH9E"
      },
      "source": [
        "**Preparación de los datos**\n",
        "\n",
        "\n",
        "Se combinan las tablas mediante sus claves para crear un único DataFrame que contenga toda la información consolidada.\n",
        "Además, se calcula el subtotal de cada producto y se formatea la fecha correctamente."
      ]
    },
    {
      "cell_type": "code",
      "execution_count": null,
      "metadata": {
        "id": "XXb3BU3fVMyl"
      },
      "outputs": [],
      "source": [
        "df = detalle.merge(productos, on=\"id_producto\", how=\"left\")\n",
        "df = df.merge(rubros, on=\"id_rubro\", how=\"left\")\n",
        "df = df.merge(facturas, on=\"id_factura\", how=\"left\")\n",
        "df = df.merge(clientes, on=\"id_cliente\", how=\"left\")\n",
        "\n",
        "df[\"subtotal\"] = df[\"cantidad\"] * df[\"precio_unitario\"]\n",
        "df[\"fecha\"] = pd.to_datetime(df[\"fecha\"], errors=\"coerce\")"
      ]
    },
    {
      "cell_type": "markdown",
      "metadata": {
        "id": "NU2GJRKPVPnl"
      },
      "source": [
        "**Cálculo de métricas generales**\n",
        "\n",
        "Se obtienen los valores globales del sistema:\n",
        "\n",
        "* Total de ventas realizadas\n",
        "* Cantidad de facturas\n",
        "* Número de clientes únicos\n",
        "* Total de productos vendidos\n",
        "\n",
        "Además, se calculan las unidades vendidas por producto."
      ]
    },
    {
      "cell_type": "code",
      "execution_count": null,
      "metadata": {
        "id": "blbTVAT0VgNM"
      },
      "outputs": [],
      "source": [
        "total_ventas = df[\"subtotal\"].sum()\n",
        "total_facturas = df[\"id_factura\"].nunique()\n",
        "total_clientes = df[\"id_cliente\"].nunique()\n",
        "total_productos = df[\"id_producto\"].nunique()\n",
        "\n",
        "ventas_cantidad = df.groupby(\"descripcion\")[\"cantidad\"].sum().sort_values(ascending=False)"
      ]
    },
    {
      "cell_type": "markdown",
      "metadata": {
        "id": "NVMGqB4pVibL"
      },
      "source": [
        "**Métricas principales**\n",
        "\n",
        "Se visualizan los indicadores más importantes de la empresa, incluyendo el total de ventas, facturas emitidas, clientes activos y el producto más vendido."
      ]
    },
    {
      "cell_type": "code",
      "execution_count": null,
      "metadata": {
        "colab": {
          "base_uri": "https://localhost:8080/",
          "height": 407
        },
        "id": "wXbdWZXpVl09",
        "outputId": "846f8b45-0429-4218-822b-d63576b78362"
      },
      "outputs": [],
      "source": [
        "plt.figure(figsize=(6, 4))\n",
        "producto_mas_vendido = ventas_cantidad.index[0]\n",
        "cantidad_mas_vendido = ventas_cantidad.values[0]\n",
        "\n",
        "metricas_texto = f\"\"\"\n",
        "TOTAL VENTAS: ${total_ventas:,.2f}\n",
        "TOTAL FACTURAS: {total_facturas}\n",
        "CLIENTES ÚNICOS: {total_clientes}\n",
        "RODUCTOS VENDIDOS: {total_productos}\n",
        "PRODUCTO MÁS VENDIDO: {producto_mas_vendido[:25]} ( {cantidad_mas_vendido} unidades)\n",
        "\"\"\"\n",
        "\n",
        "plt.axis('off')\n",
        "plt.text(0, 0.5, metricas_texto, fontsize=12, fontfamily='monospace',\n",
        "         bbox=dict(boxstyle=\"round,pad=1\", facecolor=\"lightblue\", alpha=0.8))\n",
        "plt.title(\"MÉTRICAS PRINCIPALES - CORAL TECH\")\n",
        "plt.tight_layout()\n",
        "plt.show()\n"
      ]
    },
    {
      "cell_type": "markdown",
      "metadata": {
        "id": "vGCJOAh_Vo42"
      },
      "source": [
        "**Ventas por rubro**\n",
        "\n",
        "Muestra los rubros con mayor monto total de ventas, permitiendo identificar qué áreas del negocio son más rentables."
      ]
    },
    {
      "cell_type": "code",
      "execution_count": null,
      "metadata": {
        "colab": {
          "base_uri": "https://localhost:8080/",
          "height": 507
        },
        "id": "n-6MuQD_Vqi1",
        "outputId": "26e443ea-2836-44bb-a61a-cd25244a527c"
      },
      "outputs": [],
      "source": [
        "ventas_rubro = df.groupby(\"nombre_rubro\")[\"subtotal\"].sum().sort_values(ascending=True)\n",
        "\n",
        "plt.figure(figsize=(7, 5))\n",
        "colors_rubro = plt.cm.Set3(np.linspace(0, 1, len(ventas_rubro)))\n",
        "bars = plt.barh(ventas_rubro.index, ventas_rubro.values, color=colors_rubro)\n",
        "\n",
        "plt.title(\"VENTAS POR RUBRO\")\n",
        "for bar in bars:\n",
        "    plt.text(bar.get_width(), bar.get_y() + bar.get_height()/2,\n",
        "             f'${bar.get_width():,.0f}', va='center', fontsize=8)\n",
        "plt.xlabel(\"Monto en $\")\n",
        "plt.tight_layout()\n",
        "plt.show()\n"
      ]
    },
    {
      "cell_type": "markdown",
      "metadata": {
        "id": "5pbnBzkuVtlV"
      },
      "source": [
        "**Top clientes**\n",
        "\n",
        "Se listan los clientes más importantes de la empresa según el monto total de compras realizadas."
      ]
    },
    {
      "cell_type": "code",
      "execution_count": null,
      "metadata": {
        "colab": {
          "base_uri": "https://localhost:8080/",
          "height": 507
        },
        "id": "pdS1kt1IVxb2",
        "outputId": "67b23d75-1ba0-4137-c215-516ad0abb65a"
      },
      "outputs": [],
      "source": [
        "top_clientes = df.groupby(\"nombre\")[\"subtotal\"].sum().sort_values(ascending=False).head(8)\n",
        "\n",
        "plt.figure(figsize=(7, 5))\n",
        "colors_clientes = plt.cm.viridis(np.linspace(0.2, 0.8, len(top_clientes)))\n",
        "bars = plt.barh(top_clientes.index, top_clientes.values, color=colors_clientes)\n",
        "\n",
        "plt.title(\"TOP CLIENTES (POR MONTO)\")\n",
        "for bar in bars:\n",
        "    plt.text(bar.get_width(), bar.get_y() + bar.get_height()/2,\n",
        "             f'${bar.get_width():,.0f}', va='center', fontsize=8)\n",
        "plt.xlabel(\"Monto en $\")\n",
        "plt.gca().invert_yaxis()\n",
        "plt.tight_layout()\n",
        "plt.show()\n"
      ]
    },
    {
      "cell_type": "markdown",
      "metadata": {},
      "source": [
        "**Promedio de ventas por día de la semana**\n",
        "\n",
        "Muestra qué días registran mayores y menores ventas, revelando los patrones semanales de rendimiento comercial."
      ]
    },
    {
      "cell_type": "code",
      "execution_count": null,
      "metadata": {},
      "outputs": [],
      "source": [
        "df[\"dia_semana\"] = df[\"fecha\"].dt.day_name()\n",
        "\n",
        "ventas_semana = df.groupby(\"dia_semana\")[\"subtotal\"].mean()\n",
        "\n",
        "orden_dias = [\"Monday\", \"Tuesday\", \"Wednesday\", \"Thursday\", \"Friday\", \"Saturday\", \"Sunday\"]\n",
        "ventas_semana = ventas_semana.reindex(orden_dias, fill_value=0)  # ← agrega los faltantes con 0\n",
        "\n",
        "dias_es = [\"Lunes\", \"Martes\", \"Miércoles\", \"Jueves\", \"Viernes\", \"Sábado\", \"Domingo\"]\n",
        "\n",
        "plt.figure(figsize=(8, 4))\n",
        "plt.fill_between(dias_es, ventas_semana.values, alpha=0.3, color='purple')\n",
        "plt.plot(dias_es, ventas_semana.values, marker='o', color='purple', linewidth=2)\n",
        "plt.title(\"PROMEDIO DE VENTAS POR DÍA DE LA SEMANA\", fontsize=12, fontweight='bold')\n",
        "plt.xlabel(\"Día de la semana\")\n",
        "plt.ylabel(\"Promedio de ventas ($)\")\n",
        "plt.grid(True, alpha=0.3)\n",
        "\n",
        "# Mostrar valores sobre cada punto\n",
        "for i, valor in enumerate(ventas_semana.values):\n",
        "    if valor > 0:\n",
        "        plt.text(i, valor, f'${valor:,.0f}', ha='center', va='bottom', fontsize=8)\n",
        "\n",
        "plt.tight_layout()\n",
        "plt.show()\n"
      ]
    },
    {
      "cell_type": "markdown",
      "metadata": {
        "id": "tCW9YMOTV2Wg"
      },
      "source": [
        "**Evolución mensual de ventas**\n",
        "\n",
        "Analiza cómo varían las ventas mes a mes durante el año 2025, mostrando los picos y caídas en el rendimiento comercial."
      ]
    },
    {
      "cell_type": "code",
      "execution_count": null,
      "metadata": {
        "colab": {
          "base_uri": "https://localhost:8080/",
          "height": 407
        },
        "id": "kOR81r0jV7wB",
        "outputId": "8c42c0fa-2a67-4be2-c627-76656f831857"
      },
      "outputs": [],
      "source": [
        "df_2025 = df[df[\"fecha\"].dt.year == 2025]\n",
        "ventas_2025_mes = df_2025.groupby(df_2025[\"fecha\"].dt.month)[\"subtotal\"].sum().reindex(range(1,13), fill_value=0)\n",
        "meses = [\"Ene\",\"Feb\",\"Mar\",\"Abr\",\"May\",\"Jun\",\"Jul\",\"Ago\",\"Sep\",\"Oct\",\"Nov\",\"Dic\"]\n",
        "\n",
        "plt.figure(figsize=(8, 4))\n",
        "plt.fill_between(range(1,13), ventas_2025_mes.values, alpha=0.3, color='green')\n",
        "plt.plot(range(1,13), ventas_2025_mes.values, marker='o', color='green', linewidth=2)\n",
        "plt.xticks(range(1,13), meses)\n",
        "plt.grid(True, alpha=0.3)\n",
        "plt.title(\"EVOLUCIÓN MENSUAL DE VENTAS (2025)\")\n",
        "for i, valor in enumerate(ventas_2025_mes.values):\n",
        "    if valor > 0:\n",
        "        plt.text(i+1, valor, f'${valor:,.0f}', ha='center', va='bottom', fontsize=7)\n",
        "plt.tight_layout()\n",
        "plt.show()\n"
      ]
    },
    {
      "cell_type": "markdown",
      "metadata": {},
      "source": [
        "**Evolución de Ventas a lo Largo de los Años**\n",
        "\n",
        "El análisis interanual muestra una tendencia general de crecimiento, con aumentos sostenidos en las ventas y mejoras en el rendimiento comercial.\n",
        "Si bien algunos años registraron fluctuaciones puntuales por factores externos, la evolución global refleja una consolidación progresiva del negocio y una mayor estabilidad en el mercado."
      ]
    },
    {
      "cell_type": "code",
      "execution_count": null,
      "metadata": {},
      "outputs": [],
      "source": [
        "anios = range(2022, 2026)\n",
        "ventas_anuales = df.groupby(df[\"fecha\"].dt.year)[\"subtotal\"].sum().reindex(anios, fill_value=0)\n",
        "\n",
        "plt.figure(figsize=(8, 4))\n",
        "plt.fill_between(ventas_anuales.index, ventas_anuales.values, alpha=0.3, color='green')\n",
        "plt.plot(ventas_anuales.index, ventas_anuales.values, marker='o', color='green', linewidth=2)\n",
        "plt.xticks(ventas_anuales.index, [str(año) for año in ventas_anuales.index])\n",
        "plt.grid(True, alpha=0.3)\n",
        "plt.title(\"EVOLUCIÓN ANUAL DE VENTAS\", fontsize=12, fontweight='bold')\n",
        "plt.xlabel(\"Año\")\n",
        "plt.ylabel(\"Monto total en $\")\n",
        "\n",
        "for i, valor in enumerate(ventas_anuales.values):\n",
        "    plt.text(ventas_anuales.index[i], valor, f'${valor:,.0f}', ha='center', va='bottom', fontsize=8)\n",
        "\n",
        "plt.tight_layout()\n",
        "plt.show()\n"
      ]
    },
    {
      "cell_type": "markdown",
      "metadata": {
        "id": "Cp9EK96dV-yS"
      },
      "source": [
        "**Productos más vendidos**\n",
        "\n",
        "Muestra los 10 productos con mayor cantidad de unidades vendidas, permitiendo identificar los artículos más populares."
      ]
    },
    {
      "cell_type": "code",
      "execution_count": null,
      "metadata": {
        "colab": {
          "base_uri": "https://localhost:8080/",
          "height": 507
        },
        "id": "F--9F8ulWDAx",
        "outputId": "93dd155d-4085-456e-9d28-539b5bd96da6"
      },
      "outputs": [],
      "source": [
        "top_productos_cantidad = ventas_cantidad.head(10).sort_values(ascending=True)\n",
        "\n",
        "plt.figure(figsize=(8, 5))\n",
        "colors_productos = plt.cm.plasma(np.linspace(0.2, 0.8, len(top_productos_cantidad)))\n",
        "bars = plt.barh(top_productos_cantidad.index, top_productos_cantidad.values, color=colors_productos)\n",
        "\n",
        "plt.title(\"TOP PRODUCTOS MÁS VENDIDOS (POR CANTIDAD)\")\n",
        "for bar in bars:\n",
        "    plt.text(bar.get_width(), bar.get_y() + bar.get_height()/2,\n",
        "             f'{bar.get_width():.0f} unidades', va='center', fontsize=8)\n",
        "plt.xlabel(\"Cantidad vendida\")\n",
        "plt.tight_layout()\n",
        "plt.show()"
      ]
    },
    {
      "cell_type": "markdown",
      "metadata": {
        "id": "OHT5QewbWR_I"
      },
      "source": [
        "**Resumen ejecutivo**\n",
        "\n",
        "Finalmente, se genera un resumen textual con las principales métricas, los clientes destacados y la distribución de ventas por rubro."
      ]
    },
    {
      "cell_type": "code",
      "execution_count": null,
      "metadata": {
        "colab": {
          "base_uri": "https://localhost:8080/"
        },
        "id": "Lrxnfz67WbyE",
        "outputId": "a7b8d8e3-2dff-4f1f-f604-16e8386e4c32"
      },
      "outputs": [],
      "source": [
        "print(f\"\\n TOP CLIENTES (POR MONTO):\")\n",
        "top_clientes_resumen = df.groupby(\"nombre\")[\"subtotal\"].sum().sort_values(ascending=False).head(5)\n",
        "for i, (cliente, monto) in enumerate(top_clientes_resumen.items(), 1):\n",
        "    print(f\"   {i}. {cliente}: ${monto:,.2f}\")\n",
        "\n",
        "print(f\"\\n PRODUCTOS MÁS VENDIDOS (POR CANTIDAD):\")\n",
        "for i, (producto, cantidad) in enumerate(ventas_cantidad.head(5).items(), 1):\n",
        "    monto_producto = df[df[\"descripcion\"] == producto][\"subtotal\"].sum()\n",
        "    print(f\"   {i}. {producto}\")\n",
        "    print(f\"      Cantidad: {cantidad} unidades | Monto: ${monto_producto:,.2f}\")\n",
        "\n",
        "print(f\"\\n VENTAS POR RUBRO:\")\n",
        "ventas_rubro = df.groupby(\"nombre_rubro\")[\"subtotal\"].sum().sort_values(ascending=False)\n",
        "for rubro, venta in ventas_rubro.items():\n",
        "    porcentaje = (venta / total_ventas) * 100\n",
        "    print(f\"   • {rubro}: ${venta:,.2f} ({porcentaje:.1f}%)\")\n"
      ]
    }
  ],
  "metadata": {
    "colab": {
      "provenance": []
    },
    "kernelspec": {
      "display_name": "Python 3",
      "name": "python3"
    },
    "language_info": {
      "codemirror_mode": {
        "name": "ipython",
        "version": 3
      },
      "file_extension": ".py",
      "mimetype": "text/x-python",
      "name": "python",
      "nbconvert_exporter": "python",
      "pygments_lexer": "ipython3",
      "version": "3.12.4"
    }
  },
  "nbformat": 4,
  "nbformat_minor": 0
}
